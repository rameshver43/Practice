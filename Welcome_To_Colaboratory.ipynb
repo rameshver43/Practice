{
  "cells": [
    {
      "cell_type": "markdown",
      "metadata": {
        "id": "view-in-github",
        "colab_type": "text"
      },
      "source": [
        "<a href=\"https://colab.research.google.com/github/rameshver43/Practice/blob/master/Welcome_To_Colaboratory.ipynb\" target=\"_parent\"><img src=\"https://colab.research.google.com/assets/colab-badge.svg\" alt=\"Open In Colab\"/></a>"
      ]
    },
    {
      "cell_type": "code",
      "source": [
        "import torch\n",
        "from transformers import BertTokenizer, BertForSequenceClassification\n",
        "\n",
        "device = torch.device('cuda' if torch.cuda.is_available() else 'cpu')\n",
        "\n",
        "def preprocess_text(text, tokenizer):\n",
        "    inputs = tokenizer(text, padding=True, truncation=True, return_tensors='pt')\n",
        "    return inputs\n",
        "\n",
        "def train_model(model, train_inputs, train_labels, num_epochs=3, batch_size=16):\n",
        "    optimizer = torch.optim.AdamW(model.parameters(), lr=1e-5)\n",
        "    model.to(device)\n",
        "\n",
        "    train_dataset = torch.utils.data.TensorDataset(train_inputs['input_ids'],\n",
        "                                                  train_inputs['attention_mask'],\n",
        "                                                  train_labels)\n",
        "    train_loader = torch.utils.data.DataLoader(train_dataset, batch_size=batch_size, shuffle=True)\n",
        "\n",
        "    for epoch in range(num_epochs):\n",
        "        model.train()\n",
        "        total_loss = 0\n",
        "\n",
        "        for batch in train_loader:\n",
        "            optimizer.zero_grad()\n",
        "            input_ids, attention_mask, labels = batch\n",
        "            input_ids = input_ids.to(device)\n",
        "            attention_mask = attention_mask.to(device)\n",
        "            labels = labels.to(device)\n",
        "\n",
        "            outputs = model(input_ids, attention_mask=attention_mask, labels=labels)\n",
        "            loss = outputs.loss\n",
        "            total_loss += loss.item()\n",
        "\n",
        "            loss.backward()\n",
        "            optimizer.step()\n",
        "\n",
        "        print(f'Epoch {epoch+1}/{num_epochs} - Loss: {total_loss:.4f}')\n",
        "\n",
        "\n",
        "\n",
        "\n",
        "\n",
        "\n",
        "model_name = 'bert-base-uncased'\n",
        "tokenizer = BertTokenizer.from_pretrained(model_name)\n",
        "model = BertForSequenceClassification.from_pretrained(model_name, num_labels=2)\n",
        "\n",
        "    # Example training data (paragraphs)\n",
        "train_paragraphs = [\n",
        "        \"Yoga is an ancient practice that originated in India thousands of years ago. It encompasses a holistic approach to physical and mental well-being, combining physical postures (asanas), breathing exercises (pranayama), and meditation techniques. The practice of yoga aims to harmonize the body, mind, and spirit, promoting balance, flexibility, strength, and inner peace. Through the regular practice of yoga, individuals can experience a myriad of benefits. Physically, yoga helps improve flexibility, increase muscle tone and strength, and enhance overall body awareness. It can also alleviate chronic pain, reduce the risk of injury, and improve posture and alignment.Mentally and emotionally, yoga provides a space for mindfulness and self-reflection. It can reduce stress, anxiety, and depression by promoting relaxation and calming the mind. Regular yoga practice cultivates focus, concentration, and mental clarity. It also encourages self-acceptance, self-compassion, and a deeper connection with oneself and others. Furthermore, yoga offers a spiritual dimension, allowing practitioners to explore and deepen their spiritual connection. It encourages the development of inner wisdom, compassion, and gratitude. Yoga philosophy encompasses principles such as non-violence (ahimsa), truthfulness (satya), contentment (santosha), and self-discipline (tapas). Yoga is a versatile practice that offers various styles and approaches to suit individual preferences and needs. Hatha yoga focuses on physical postures and breath control, while Vinyasa yoga emphasizes flowing movements coordinated with breath. Other styles like Ashtanga, Kundalini, and Iyengar each have their unique characteristics and benefits. Practicing yoga is accessible to people of all ages and fitness levels. It can be adapted to accommodate different body types, abilities, and limitations. Whether practiced in a group setting or at home, yoga provides an opportunity to nurture oneself, find inner balance, and cultivate overall well-being.\",\n",
        "        \"Football, also known as soccer, is a popular sport played worldwide. It involves two teams competing against each other to score goals by kicking a ball into the opposing team's net. Football requires physical agility, speed, endurance, and teamwork. The game of football consists of various positions, including forwards, midfielders, defenders, and goalkeepers. Each position has its unique role and responsibilities. The forwards primarily focus on scoring goals, while midfielders play a critical role in controlling the game and facilitating transitions between defense and attack. Defenders aim to prevent the opposing team from scoring, and goalkeepers protect the goal from incoming shots. Football matches are played on a rectangular field with two goals at opposite ends. The objective is to move the ball across the field using various passing, dribbling, and shooting techniques. Strategies and tactics are employed to outwit the opposing team and create scoring opportunities.Beyond the physical aspects, football fosters camaraderie, sportsmanship, and teamwork among players. It promotes discipline, dedication, and perseverance. Football matches often evoke a sense of passion, excitement, and unity among fans and supporters. The popularity of football has led to the establishment of professional leagues and international tournaments, such as the FIFA World Cup and UEFA Champions League. These events showcase the highest level of competition and bring people from different nations together through their shared love for the sport. Football enthusiasts engage in watching matches, playing in local teams, and participating in fantasy football leagues. The sport has a significant cultural impact and serves as a source of entertainment, social connection, and inspiration for millions of people worldwide. Basketball is a popular sport played around the world. It involves two teams competing to score points by shooting a ball into the opposing team's basket. While basketball requires physical fitness and coordination, it is not directly related to yoga.\"\n",
        "    ]\n",
        "train_labels = [1, 0]  # 1 for yoga-related, 0 for not yoga-related\n",
        "\n",
        "    # Preprocess and train the model\n",
        "train_inputs = preprocess_text(train_paragraphs, tokenizer)\n",
        "train_labels = torch.tensor(train_labels)\n",
        "train_model(model, train_inputs, train_labels)\n",
        "\n",
        "model.save_pretrained(\"saved_model\")\n",
        "tokenizer.save_pretrained(\"saved_tokenizer\")\n",
        "\n",
        "\n",
        ""
      ],
      "metadata": {
        "id": "IDMgAY6h1cPE"
      },
      "execution_count": null,
      "outputs": []
    },
    {
      "cell_type": "code",
      "source": [
        "def classify_sentence(model, sentence, tokenizer):\n",
        "    model.eval()\n",
        "    input_data = preprocess_text(sentence, tokenizer)\n",
        "    input_ids = input_data['input_ids'].to(device)\n",
        "    attention_mask = input_data['attention_mask'].to(device)\n",
        "\n",
        "    with torch.no_grad():\n",
        "        outputs = model(input_ids, attention_mask=attention_mask)\n",
        "        logits = outputs.logits\n",
        "        predicted_label = torch.argmax(logits, dim=1).item()\n",
        "\n",
        "    return predicted_label\n",
        "\n",
        "model = BertForSequenceClassification.from_pretrained(\"saved_model\")\n",
        "tokenizer = BertTokenizer.from_pretrained(\"saved_tokenizer\")\n",
        "# Example test sentence\n",
        "test_sentence = \"Play any video for relaxation mediatation\"\n",
        "predicted_label = classify_sentence(model, test_sentence, tokenizer)\n",
        "print(predicted_label)  # 1 (yoga-related)"
      ],
      "metadata": {
        "id": "0IdCOak62VIi"
      },
      "execution_count": null,
      "outputs": []
    }
  ],
  "metadata": {
    "colab": {
      "name": "Welcome To Colaboratory",
      "toc_visible": true,
      "provenance": [],
      "include_colab_link": true
    },
    "kernelspec": {
      "display_name": "Python 3",
      "name": "python3"
    }
  },
  "nbformat": 4,
  "nbformat_minor": 0
}